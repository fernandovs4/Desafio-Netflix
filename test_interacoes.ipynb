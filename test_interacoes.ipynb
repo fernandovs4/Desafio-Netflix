{
 "cells": [
  {
   "cell_type": "code",
   "execution_count": 1,
   "metadata": {},
   "outputs": [],
   "source": [
    "from DesafioNetflix import escolheAleatorio, calculaAuto\n",
    "import pandas as pd"
   ]
  },
  {
   "cell_type": "code",
   "execution_count": 2,
   "metadata": {},
   "outputs": [
    {
     "name": "stderr",
     "output_type": "stream",
     "text": [
      "\n",
      "KeyboardInterrupt\n",
      "\n"
     ]
    }
   ],
   "source": [
    "acertos = 0\n",
    "qtd = 1\n",
    "erros = 0\n",
    "df = pd.read_csv('ratings_small_formated.csv', sep=',', index_col=0)\n",
    "for _ in range(0,1000):\n",
    "    B, numero_, linha, coluna = escolheAleatorio(df)\n",
    "    sigma, U, V_transposto = calculaAuto(B)\n",
    "    B = U@sigma@V_transposto\n",
    "    diferenca = abs(numero_ - B[linha][coluna])\n",
    "    if diferenca <= 1:\n",
    "        acertos+=1\n",
    "    else:\n",
    "        erros+=1 \n",
    "    qtd +=1\n",
    "    with open('resultados_test.txt', 'a') as f:\n",
    "        f.write(f\"Esperado: {numero_}\\nPalpite: {B[linha][coluna]}\\nDiferenca: {diferenca}\\n\\n\")\n",
    "    with open('diferencas_test.txt', 'a') as f:\n",
    "        f.write(f\"{diferenca}\\n\")"
   ]
  },
  {
   "cell_type": "code",
   "execution_count": null,
   "metadata": {},
   "outputs": [],
   "source": []
  }
 ],
 "metadata": {
  "kernelspec": {
   "display_name": "Python 3",
   "language": "python",
   "name": "python3"
  },
  "language_info": {
   "codemirror_mode": {
    "name": "ipython",
    "version": 3
   },
   "file_extension": ".py",
   "mimetype": "text/x-python",
   "name": "python",
   "nbconvert_exporter": "python",
   "pygments_lexer": "ipython3",
   "version": "3.10.8"
  },
  "orig_nbformat": 4
 },
 "nbformat": 4,
 "nbformat_minor": 2
}
